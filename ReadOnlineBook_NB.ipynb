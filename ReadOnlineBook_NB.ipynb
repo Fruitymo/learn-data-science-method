{
 "cells": [
  {
   "cell_type": "code",
   "execution_count": null,
   "metadata": {},
   "outputs": [],
   "source": [
    "#Below code snippet is from The textbook Computational and Inferential Thinking: The Foundations of Data Science http://www.inferentialthinking.com\n",
    "\n",
    "# Code breaks due to error on the following line of code:\n",
    "# huck_finn_text = read_url(huck_finn_url)\n",
    "# The method read_url cannot be found\n",
    "\n",
    "# Read two books, fast!\n",
    "\n",
    "huck_finn_url = 'https://www.inferentialthinking.com/data/huck_finn.txt'\n",
    "huck_finn_text = read_url(huck_finn_url)\n",
    "huck_finn_chapters = huck_finn_text.split('CHAPTER ')[44:]\n",
    "\n",
    "little_women_url = 'https://www.inferentialthinking.com/data/little_women.txt'\n",
    "little_women_text = read_url(little_women_url)\n",
    "little_women_chapters = little_women_text.split('CHAPTER ')[1:]"
   ]
  },
  {
   "cell_type": "code",
   "execution_count": null,
   "metadata": {},
   "outputs": [],
   "source": [
    "# Its important to note that the sample code was meant to read two online books fast\n",
    "# which means the line:\n",
    "# little_women_text = read_url(little_women_url)\n",
    "# will also result in an error, however due to the sequential nature of the compilation, we never reach that line."
   ]
  },
  {
   "cell_type": "code",
   "execution_count": null,
   "metadata": {},
   "outputs": [],
   "source": [
    "# To fix this, I will only work with one book, \"Little women, as its the only book of the two that I've actually read\"\n",
    "# Do not worry, you don't have to read either of the books for your code to work."
   ]
  },
  {
   "cell_type": "code",
   "execution_count": null,
   "metadata": {},
   "outputs": [],
   "source": [
    "# Read one book fast\n",
    "# I looked up the method in the python documentation and could not find read_url, seams to be a R method\n",
    "\n",
    "# replace read_url with print function and see what happens\n",
    "\n",
    "little_women_url = 'https://www.inferentialthinking.com/data/little_women.txt'\n",
    "little_women_text = print(little_women_url)\n",
    "#little_women_chapters = little_women_text.split('CHAPTER ')[1:]"
   ]
  },
  {
   "cell_type": "code",
   "execution_count": null,
   "metadata": {},
   "outputs": [],
   "source": [
    "# Interesting result, not quite what we were looking for.\n",
    "# It treated the url as a string and not a online url\n",
    "\n",
    "#let's take a different approach\n",
    "\n",
    "import urllib\n",
    "\n",
    "little_women_url = 'https://www.inferentialthinking.com/data/little_women.txt'\n",
    "little_women_text = print(little_women_url)\n",
    "#little_women_chapters = little_women_text.split('CHAPTER ')[1:]"
   ]
  },
  {
   "cell_type": "code",
   "execution_count": null,
   "metadata": {},
   "outputs": [],
   "source": [
    "# okay...let's uncomment last line as see what happens"
   ]
  },
  {
   "cell_type": "code",
   "execution_count": null,
   "metadata": {},
   "outputs": [],
   "source": [
    "little_women_chapters = little_women_text.split('CHAPTER ')[1:]"
   ]
  },
  {
   "cell_type": "code",
   "execution_count": null,
   "metadata": {},
   "outputs": [],
   "source": [
    "# mmmh let's go back to step 6"
   ]
  },
  {
   "cell_type": "code",
   "execution_count": null,
   "metadata": {},
   "outputs": [],
   "source": []
  },
  {
   "cell_type": "code",
   "execution_count": null,
   "metadata": {},
   "outputs": [],
   "source": [
    "# Interesting result, not quite what we were looking for.\n",
    "# It treated the url as a string and not a online url\n",
    "\n",
    "#let's take a different approach\n",
    "\n",
    "import urllib\n",
    "\n",
    "little_women_url = 'https://www.inferentialthinking.com/data/little_women.txt'\n",
    "little_women_text = urllib.request.urlopen(little_women_url)\n",
    "#little_women_chapters = little_women_text.split('CHAPTER ')[1:]"
   ]
  },
  {
   "cell_type": "code",
   "execution_count": null,
   "metadata": {},
   "outputs": [],
   "source": [
    "# good, no error\n",
    "type(little_women_text)"
   ]
  },
  {
   "cell_type": "code",
   "execution_count": null,
   "metadata": {},
   "outputs": [],
   "source": [
    "print(little_women_text.status)"
   ]
  },
  {
   "cell_type": "code",
   "execution_count": null,
   "metadata": {},
   "outputs": [],
   "source": [
    "# ok :-)"
   ]
  },
  {
   "cell_type": "code",
   "execution_count": null,
   "metadata": {},
   "outputs": [],
   "source": [
    "# we've successfully opened the url now let's read the contents and store them \n",
    "\n",
    "little_women_text_content = little_women_text.read()"
   ]
  },
  {
   "cell_type": "code",
   "execution_count": null,
   "metadata": {
    "tags": [
     "outputPrepend"
    ]
   },
   "outputs": [],
   "source": [
    "# now print to see the result\n",
    "\n",
    "print(little_women_text_content)"
   ]
  },
  {
   "cell_type": "code",
   "execution_count": null,
   "metadata": {},
   "outputs": [],
   "source": [
    "# Yay it works !!"
   ]
  }
 ],
 "metadata": {
  "kernelspec": {
   "name": "python391jvsc74a57bd06036009a3497e17b0ed2a631af9ead480d1a50aa12a5ff117410723c8ee2556b",
   "display_name": "Python 3.9.1 64-bit"
  },
  "language_info": {
   "codemirror_mode": {
    "name": "ipython",
    "version": 3
   },
   "file_extension": ".py",
   "mimetype": "text/x-python",
   "name": "python",
   "nbconvert_exporter": "python",
   "pygments_lexer": "ipython3",
   "version": "3.9.1"
  },
  "metadata": {
   "interpreter": {
    "hash": "6036009a3497e17b0ed2a631af9ead480d1a50aa12a5ff117410723c8ee2556b"
   }
  }
 },
 "nbformat": 4,
 "nbformat_minor": 4
}